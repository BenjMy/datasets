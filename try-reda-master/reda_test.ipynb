{
 "cells": [
  {
   "cell_type": "markdown",
   "metadata": {},
   "source": [
    "# REDA Example Notebook"
   ]
  },
  {
   "cell_type": "markdown",
   "metadata": {},
   "source": [
    "## Setup"
   ]
  },
  {
   "cell_type": "code",
   "execution_count": 1,
   "metadata": {},
   "outputs": [],
   "source": [
    "# In case you want to try the newest version from git.\n",
    "# Please be aware that this may break this notebook\n",
    "# !pip install git+git://github.com/geophysics-ubonn/reda"
   ]
  },
  {
   "cell_type": "code",
   "execution_count": 3,
   "metadata": {},
   "outputs": [],
   "source": [
    "import pandas as pd\n",
    "pd.set_option('display.width', 1000)\n",
    "\n",
    "%matplotlib inline\n",
    "import reda.utils.mpl\n",
    "plt, mpl = reda.utils.mpl.setup()\n",
    "\n",
    "import numpy as np\n",
    "np.random.seed(2017)\n",
    "\n",
    "from glob import glob"
   ]
  },
  {
   "cell_type": "markdown",
   "metadata": {},
   "source": [
    "## Usage of reda"
   ]
  },
  {
   "cell_type": "code",
   "execution_count": 5,
   "metadata": {},
   "outputs": [],
   "source": [
    "# get list of data files\n",
    "data_files = sorted(glob('data/pygimli_*.ohm'))\n",
    "# take only each tenth data file\n",
    "data_files = data_files[0:-1:10]\n"
   ]
  },
  {
   "cell_type": "code",
   "execution_count": 6,
   "metadata": {},
   "outputs": [
    {
     "name": "stdout",
     "output_type": "stream",
     "text": [
      "Calculating resistance from apparent resistivity and geometric factors. (r = rhoa_ / k)\n",
      "generating ids\n",
      "assigning ids\n",
      "Calculating resistance from apparent resistivity and geometric factors. (r = rhoa_ / k)\n",
      "generating ids\n",
      "assigning ids\n",
      "Calculating resistance from apparent resistivity and geometric factors. (r = rhoa_ / k)\n",
      "generating ids\n",
      "assigning ids\n",
      "Calculating resistance from apparent resistivity and geometric factors. (r = rhoa_ / k)\n",
      "generating ids\n",
      "assigning ids\n",
      "Calculating resistance from apparent resistivity and geometric factors. (r = rhoa_ / k)\n",
      "generating ids\n",
      "assigning ids\n",
      "Calculating resistance from apparent resistivity and geometric factors. (r = rhoa_ / k)\n",
      "generating ids\n",
      "assigning ids\n",
      "Calculating resistance from apparent resistivity and geometric factors. (r = rhoa_ / k)\n",
      "generating ids\n",
      "assigning ids\n",
      "Calculating resistance from apparent resistivity and geometric factors. (r = rhoa_ / k)\n",
      "generating ids\n",
      "assigning ids\n",
      "Calculating resistance from apparent resistivity and geometric factors. (r = rhoa_ / k)\n",
      "generating ids\n",
      "assigning ids\n",
      "Calculating resistance from apparent resistivity and geometric factors. (r = rhoa_ / k)\n",
      "generating ids\n",
      "assigning ids\n"
     ]
    }
   ],
   "source": [
    "from reda import ERT\n",
    "\n",
    "obj = ERT()\n",
    "\n",
    "for nr, filename in enumerate(data_files):\n",
    "    obj.import_bert(filename, timestep=nr)\n",
    "  \n",
    "obj.compute_K_analytical(spacing=1)"
   ]
  },
  {
   "cell_type": "code",
   "execution_count": 7,
   "metadata": {},
   "outputs": [
    {
     "name": "stdout",
     "output_type": "stream",
     "text": [
      "   a  b  m  n  timestep           k          r       rho_a  valid  id norrec  rdiff  rho_adiff   sigma_a\n",
      "0  4  3  1  2         0   18.849556  16.660311  314.039461    1.0   0    nor    NaN        NaN  0.060023\n",
      "1  5  4  1  2         0   75.398224   4.241190  319.778194    1.0   1    nor    NaN        NaN  0.235783\n",
      "2  6  5  1  2         0  188.495559   1.662108  313.299886    1.0   2    nor    NaN        NaN  0.601646\n",
      "3  7  6  1  2         0  376.991118   0.813218  306.575992    1.0   3    nor    NaN        NaN  1.229682\n",
      "4  8  7  1  2         0  659.734457   0.449058  296.259105    1.0   4    nor    NaN        NaN  2.226883\n"
     ]
    }
   ],
   "source": [
    "# hack together reciprocals\n",
    "import pandas as pd\n",
    "data_rec = obj.data.values\n",
    "dfr = pd.DataFrame(\n",
    "    np.hstack((data_rec[:, 2:4], data_rec[:, 0:2], data_rec[:, 4:])),\n",
    "    columns=obj.data.columns\n",
    ")\n",
    "\n",
    "# need to set the data types accordingly\n",
    "for key, dtype in obj.data.dtypes.items():\n",
    "    dfr[key] = dfr[key].astype(dtype)\n",
    "\n",
    "print(dfr.head(5))\n",
    "\n",
    "# add some noise\n",
    "dfr['rho_a'] = dfr['rho_a'] + 0.05 * dfr['rho_a'].values * np.random.randn(dfr.shape[0])\n",
    "obj.data = pd.concat((obj.data, dfr))"
   ]
  },
  {
   "cell_type": "code",
   "execution_count": 8,
   "metadata": {},
   "outputs": [
    {
     "name": "stdout",
     "output_type": "stream",
     "text": [
      "   a  b   m   n  timestep            k          r       rho_a  valid  id norrec  rdiff  rho_adiff    sigma_a\n",
      "0  1  2   4   3         0    18.849556  16.660311  314.039461    1.0   0    nor    NaN        NaN   0.060023\n",
      "1  1  2   5   4         0    75.398224   4.241190  319.778194    1.0   1    nor    NaN        NaN   0.235783\n",
      "2  1  2   6   5         0   188.495559   1.662108  313.299886    1.0   2    nor    NaN        NaN   0.601646\n",
      "3  1  2   7   6         0   376.991118   0.813218  306.575992    1.0   3    nor    NaN        NaN   1.229682\n",
      "4  1  2   8   7         0   659.734457   0.449058  296.259105    1.0   4    nor    NaN        NaN   2.226883\n",
      "5  1  2   9   8         0  1055.575132   0.274267  289.509467    1.0   5    nor    NaN        NaN   3.646082\n",
      "6  1  2  10   9         0  1583.362697   0.178931  283.312170    1.0   6    nor    NaN        NaN   5.588756\n",
      "7  1  2  11  10         0  2261.946711   0.121960  275.867204    1.0   7    nor    NaN        NaN   8.199404\n",
      "8  1  2  12  11         0  3110.176727   0.086760  269.838138    1.0   8    nor    NaN        NaN  11.526083\n",
      "9  1  2  13  12         0  4146.902303   0.063809  264.608515    1.0   9    nor    NaN        NaN  15.671840\n"
     ]
    }
   ],
   "source": [
    "print(obj.data.head(10))"
   ]
  },
  {
   "cell_type": "code",
   "execution_count": 9,
   "metadata": {},
   "outputs": [
    {
     "name": "stdout",
     "output_type": "stream",
     "text": [
      "dict_keys([0, 1, 2, 3, 4, 5, 6, 7, 8, 9])\n"
     ]
    }
   ],
   "source": [
    "# these timesteps where imported\n",
    "print(obj.data.groupby('timestep').groups.keys())"
   ]
  },
  {
   "cell_type": "markdown",
   "metadata": {},
   "source": [
    "## Filtering data"
   ]
  },
  {
   "cell_type": "code",
   "execution_count": 10,
   "metadata": {},
   "outputs": [],
   "source": [
    "# apply to all timesteps\n",
    "# obj.filter('K > 1000')"
   ]
  },
  {
   "cell_type": "code",
   "execution_count": 11,
   "metadata": {},
   "outputs": [],
   "source": [
    "# apply only to timestep 10\n",
    "obj.sub_filter(\n",
    "    'timestep in [3, 7]',\n",
    "    'a > 10 and a < 20 and k > 1000',    \n",
    ")"
   ]
  },
  {
   "cell_type": "code",
   "execution_count": 12,
   "metadata": {},
   "outputs": [
    {
     "name": "stdout",
     "output_type": "stream",
     "text": [
      "       a   b   m   n  timestep              k         r       rho_a  valid   id norrec  rdiff  rho_adiff        sigma_a\n",
      "2227   1   2   8   7         3     659.734457  0.289292  190.855950    1.0    4    nor    NaN        NaN       3.456714\n",
      "2228   1   2   9   8         3    1055.575132  0.124387  131.299422    1.0    5    nor    NaN        NaN       8.039450\n",
      "2229   1   2  10   9         3    1583.362697  0.053796   85.178704    1.0    6    nor    NaN        NaN      18.588716\n",
      "2230   1   2  11  10         3    2261.946711  0.022858   51.703278    1.0    7    nor    NaN        NaN      43.748613\n",
      "2231   1   2  12  11         3    3110.176727  0.009497   29.537502    1.0    8    nor    NaN        NaN     105.295861\n",
      "2232   1   2  13  12         3    4146.902303  0.003632   15.061481    1.0    9    nor    NaN        NaN     275.331638\n",
      "2233   1   2  14  13         3    5390.972994  0.001309    7.057056    1.0   10    nor    NaN        NaN     763.912497\n",
      "2234   1   2  15  14         3    6861.238355  0.000478    3.278835    1.0   11    nor    NaN        NaN    2092.584411\n",
      "2235   1   2  16  15         3    8576.547944  0.000181    1.552920    1.0   12    nor    NaN        NaN    5522.851066\n",
      "2236   1   2  17  16         3   10555.751316  0.000069    0.732125    1.0   13    nor    NaN        NaN   14417.964487\n",
      "2237   1   2  18  17         3   12817.698027  0.000028    0.355141    1.0   14    nor    NaN        NaN   36091.850778\n",
      "2238   1   2  19  18         3   15381.237632  0.000012    0.186436    1.0   15    nor    NaN        NaN   82501.554927\n",
      "2239   1   2  20  19         3   18265.219688  0.000006    0.117347    1.0   16    nor    NaN        NaN  155651.037101\n",
      "2240   1   2  21  20         3   21488.493751  0.000004    0.092655    1.0   17    nor    NaN        NaN  231918.515178\n",
      "2241   1   2  22  21         3   25069.909376  0.000004    0.088584    1.0   18    nor    NaN        NaN  283008.791016\n",
      "2242   1   2  23  22         3   29028.316119  0.000003    0.095706    1.0   19    nor    NaN        NaN  303307.598101\n",
      "2243   1   2  24  23         3   33382.563537  0.000003    0.105978    1.0   20    nor    NaN        NaN  314994.234640\n",
      "2244   1   2  25  24         3   38151.501185  0.000003    0.112017    1.0   21    nor    NaN        NaN  340587.322186\n",
      "2245   1   2  26  25         3   43353.978620  0.000003    0.117190    1.0   22    nor    NaN        NaN  369944.896274\n",
      "2246   1   2  27  26         3   49008.845396  0.000002    0.122098    1.0   23    nor    NaN        NaN  401389.905072\n",
      "2247   1   2  28  27         3   55134.951071  0.000002    0.122343    1.0   24    nor    NaN        NaN  450657.519969\n",
      "2248   1   2  29  28         3   61751.145199  0.000002    0.123608    1.0   25    nor    NaN        NaN  499572.220105\n",
      "2249   1   2  30  29         3   68876.277337  0.000002    0.136534    1.0   26    nor    NaN        NaN  504463.503714\n",
      "2250   1   2  31  30         3   76529.197041  0.000002    0.179512    1.0   27    nor    NaN        NaN  426317.598559\n",
      "2251   1   2  32  31         3   84728.753867  0.000003    0.283919    1.0   28    nor    NaN        NaN  298425.773740\n",
      "2252   1   2  33  32         3   93493.797371  0.000006    0.522348    1.0   29    nor    NaN        NaN  178987.656493\n",
      "2253   1   2  34  33         3  102843.177108  0.000010    1.054710    1.0   30    nor    NaN        NaN   97508.497390\n",
      "2254   1   2  35  34         3  112795.742634  0.000019    2.107356    1.0   31    nor    NaN        NaN   53524.773660\n",
      "2255   1   2  36  35         3  123370.343506  0.000033    4.123486    1.0   32    nor    NaN        NaN   29918.942523\n",
      "2256   1   2  37  36         3  134585.829280  0.000056    7.530769    1.0   33    nor    NaN        NaN   17871.458929\n",
      "...   ..  ..  ..  ..       ...            ...       ...         ...    ...  ...    ...    ...        ...            ...\n",
      "2903  36  35  28  29         3    1055.575132  0.083036   95.980912    1.0  680    nor    NaN        NaN      12.042932\n",
      "2904  37  36  28  29         3    1583.362697  0.035127   58.532165    1.0  681    nor    NaN        NaN      28.467859\n",
      "2905  38  37  28  29         3    2261.946711  0.015001   32.693608    1.0  682    nor    NaN        NaN      66.660561\n",
      "2906  39  38  28  29         3    3110.176727  0.006830   20.685296    1.0  683    nor    NaN        NaN     146.421865\n",
      "2907  40  39  28  29         3    4146.902303  0.003263   14.178363    1.0  684    nor    NaN        NaN     306.463531\n",
      "2908  41  40  28  29         3    5390.972994  0.001738    9.619582    1.0  685    nor    NaN        NaN     575.500258\n",
      "2912  35  34  29  30         3     376.991118  0.511205  189.518242    1.0  689    nor    NaN        NaN       1.956162\n",
      "2913  36  35  29  30         3     659.734457  0.200975  122.688113    1.0  690    nor    NaN        NaN       4.975751\n",
      "2914  37  36  29  30         3    1055.575132  0.083331   98.497075    1.0  691    nor    NaN        NaN      12.000309\n",
      "2915  38  37  29  30         3    1583.362697  0.035054   52.252875    1.0  692    nor    NaN        NaN      28.527745\n",
      "2916  39  38  29  30         3    2261.946711  0.015748   33.409380    1.0  693    nor    NaN        NaN      63.498808\n",
      "2917  40  39  29  30         3    3110.176727  0.007414   22.728502    1.0  694    nor    NaN        NaN     134.873001\n",
      "2918  41  40  29  30         3    4146.902303  0.003882   16.658655    1.0  695    nor    NaN        NaN     257.573817\n",
      "2922  36  35  30  31         3     376.991118  0.500991  188.652090    1.0  699    nor    NaN        NaN       1.996043\n",
      "2923  37  36  30  31         3     659.734457  0.201532  134.314689    1.0  700    nor    NaN        NaN       4.961988\n",
      "2924  38  37  30  31         3    1055.575132  0.083045   90.208667    1.0  701    nor    NaN        NaN      12.041647\n",
      "2925  39  38  30  31         3    1583.362697  0.036725   64.362493    1.0  702    nor    NaN        NaN      27.229477\n",
      "2926  40  39  30  31         3    2261.946711  0.017034   38.444006    1.0  703    nor    NaN        NaN      58.705865\n",
      "2927  41  40  30  31         3    3110.176727  0.008786   28.426950    1.0  704    nor    NaN        NaN     113.823063\n",
      "2932  38  37  31  32         3     659.734457  0.203248  126.316060    1.0  709    nor    NaN        NaN       4.920100\n",
      "2933  39  38  31  32         3    1055.575132  0.087917   97.110818    1.0  710    nor    NaN        NaN      11.374321\n",
      "2934  40  39  31  32         3    1583.362697  0.040027   66.912262    1.0  711    nor    NaN        NaN      24.983127\n",
      "2935  41  40  31  32         3    2261.946711  0.020296   42.407051    1.0  712    nor    NaN        NaN      49.269845\n",
      "2939  38  37  32  33         3     376.991118  0.518166  180.741905    1.0  716    nor    NaN        NaN       1.929883\n",
      "2940  39  38  32  33         3     659.734457  0.216969  151.324974    1.0  717    nor    NaN        NaN       4.608960\n",
      "2941  40  39  32  33         3    1055.575132  0.096384  108.581504    1.0  718    nor    NaN        NaN      10.375209\n",
      "2942  41  40  32  33         3    1583.362697  0.047888   75.130456    1.0  719    nor    NaN        NaN      20.882144\n",
      "2947  40  39  33  34         3     659.734457  0.236961  168.410837    1.0  724    nor    NaN        NaN       4.220112\n",
      "2948  41  40  33  34         3    1055.575132  0.114584  122.195106    1.0  725    nor    NaN        NaN       8.727236\n",
      "2953  41  40  34  35         3     659.734457  0.266089  153.880834    1.0  730    nor    NaN        NaN       3.758146\n",
      "\n",
      "[1008 rows x 14 columns]\n"
     ]
    }
   ],
   "source": [
    "print(obj.data.query('timestep == 3 and rho_a < 200'))"
   ]
  },
  {
   "cell_type": "markdown",
   "metadata": {},
   "source": [
    "## Histogram plotting"
   ]
  },
  {
   "cell_type": "code",
   "execution_count": 13,
   "metadata": {},
   "outputs": [
    {
     "data": {
      "text/plain": [
       "a              int32\n",
       "b              int32\n",
       "m              int32\n",
       "n              int32\n",
       "timestep       int64\n",
       "k            float64\n",
       "r            float64\n",
       "rho_a        float64\n",
       "valid        float64\n",
       "id             int64\n",
       "norrec        object\n",
       "rdiff        float64\n",
       "rho_adiff    float64\n",
       "sigma_a      float64\n",
       "dtype: object"
      ]
     },
     "execution_count": 13,
     "metadata": {},
     "output_type": "execute_result"
    }
   ],
   "source": [
    "obj.data.dtypes"
   ]
  },
  {
   "cell_type": "code",
   "execution_count": 14,
   "metadata": {},
   "outputs": [
    {
     "ename": "AttributeError",
     "evalue": "'tuple' object has no attribute 'savefig'",
     "output_type": "error",
     "traceback": [
      "\u001b[1;31m---------------------------------------------------------------------------\u001b[0m",
      "\u001b[1;31mAttributeError\u001b[0m                            Traceback (most recent call last)",
      "\u001b[1;32m<ipython-input-14-aacfc575e017>\u001b[0m in \u001b[0;36m<module>\u001b[1;34m\u001b[0m\n\u001b[0;32m      9\u001b[0m )\n\u001b[0;32m     10\u001b[0m \u001b[1;31m# print(fig.get_figwidth(), fig.get_figheight())\u001b[0m\u001b[1;33m\u001b[0m\u001b[1;33m\u001b[0m\u001b[1;33m\u001b[0m\u001b[0m\n\u001b[1;32m---> 11\u001b[1;33m \u001b[0mfig\u001b[0m\u001b[1;33m.\u001b[0m\u001b[0msavefig\u001b[0m\u001b[1;33m(\u001b[0m\u001b[1;34m'histogram.png'\u001b[0m\u001b[1;33m,\u001b[0m \u001b[0mdpi\u001b[0m\u001b[1;33m=\u001b[0m\u001b[1;36m300\u001b[0m\u001b[1;33m)\u001b[0m\u001b[1;33m\u001b[0m\u001b[1;33m\u001b[0m\u001b[0m\n\u001b[0m",
      "\u001b[1;31mAttributeError\u001b[0m: 'tuple' object has no attribute 'savefig'"
     ]
    },
    {
     "data": {
      "image/png": "[encoded data removed]",
      "text/plain": [
       "<Figure size 425.197x141.732 with 3 Axes>"
      ]
     },
     "metadata": {
      "needs_background": "light"
     },
     "output_type": "display_data"
    }
   ],
   "source": [
    "import reda.plotters.histograms as RH\n",
    "fig = RH.plot_histograms_extra_dims(\n",
    "    obj,\n",
    "    keys=['rho_a', ],\n",
    "    extra_dims=['timestep', ],\n",
    "    Nx=5,\n",
    "    #subquery='timestep in {0}'.format(list(range(0, 100, 10))),\n",
    "    subquery='timestep in [0, 3, 6]'\n",
    ")\n",
    "# print(fig.get_figwidth(), fig.get_figheight())\n",
    "fig.savefig('histogram.png', dpi=300)"
   ]
  },
  {
   "cell_type": "markdown",
   "metadata": {},
   "source": [
    "## Plotting Pseudosections"
   ]
  },
  {
   "cell_type": "code",
   "execution_count": 15,
   "metadata": {},
   "outputs": [
    {
     "data": {
      "image/png": "[encoded data removed]",
      "text/plain": [
       "<Figure size 566.64x282.96 with 6 Axes>"
      ]
     },
     "metadata": {
      "needs_background": "light"
     },
     "output_type": "display_data"
    }
   ],
   "source": [
    "import reda.plotters.pseudoplots as PS\n",
    "fig = PS.plot_ps_extra(\n",
    "    obj, 'rho_a',\n",
    "    subquery='timestep in [0, 3, 6]'\n",
    ")\n",
    "fig.set_size_inches(7.87, 3.93)\n",
    "fig.tight_layout()\n",
    "fig.savefig('pseudoplots.png', dpi=600)"
   ]
  },
  {
   "cell_type": "markdown",
   "metadata": {},
   "source": [
    "## Analyzing time series"
   ]
  },
  {
   "cell_type": "code",
   "execution_count": 16,
   "metadata": {},
   "outputs": [
    {
     "data": {
      "image/png": "[encoded data removed]",
      "text/plain": [
       "<Figure size 566.929x198.425 with 1 Axes>"
      ]
     },
     "metadata": {
      "needs_background": "light"
     },
     "output_type": "display_data"
    }
   ],
   "source": [
    "import reda.plotters.time_series as TS\n",
    "\n",
    "fig, ax = TS.plot_quadpole_evolution(\n",
    "    obj,\n",
    "    [10, 11, 15, 14],\n",
    "    'rho_a',\n",
    "    threshold=0.05,\n",
    "    rolling=False,\n",
    ")"
   ]
  },
  {
   "cell_type": "code",
   "execution_count": 17,
   "metadata": {},
   "outputs": [],
   "source": [
    "# add some noise to the data\n",
    "import numpy as np\n",
    "np.random.seed(2017)\n",
    "obj.data['rho_a'] = obj.data['rho_a'] + (np.abs(obj.data['rho_a'] * 0.05 * np.random.randn(obj.data.shape[0])))"
   ]
  },
  {
   "cell_type": "code",
   "execution_count": 18,
   "metadata": {},
   "outputs": [
    {
     "data": {
      "image/png": "[encoded data removed]",
      "text/plain": [
       "<Figure size 566.929x198.425 with 1 Axes>"
      ]
     },
     "metadata": {
      "needs_background": "light"
     },
     "output_type": "display_data"
    }
   ],
   "source": [
    "fig, ax = TS.plot_quadpole_evolution(\n",
    "    obj,\n",
    "    [10, 11, 15, 14],\n",
    "    'rho_a',\n",
    "    threshold=0.05,\n",
    "    rolling=False,\n",
    ")"
   ]
  },
  {
   "cell_type": "markdown",
   "metadata": {},
   "source": [
    "## The Data Journal"
   ]
  },
  {
   "cell_type": "code",
   "execution_count": 19,
   "metadata": {},
   "outputs": [
    {
     "name": "stdout",
     "output_type": "stream",
     "text": [
      "\n",
      "--- Data Journal Start ---\n",
      "2020-03-19 11:22:41.409626\n",
      "Data was imported from file pygimli_paper_data000.ohm (741 data points)\n",
      "Data was imported from file pygimli_paper_data010.ohm (741 data points)\n",
      "Data was imported from file pygimli_paper_data020.ohm (741 data points)\n",
      "Data was imported from file pygimli_paper_data030.ohm (741 data points)\n",
      "Data was imported from file pygimli_paper_data040.ohm (741 data points)\n",
      "Data was imported from file pygimli_paper_data050.ohm (741 data points)\n",
      "Data was imported from file pygimli_paper_data060.ohm (741 data points)\n",
      "Data was imported from file pygimli_paper_data070.ohm (741 data points)\n",
      "Data was imported from file pygimli_paper_data080.ohm (741 data points)\n",
      "Data was imported from file pygimli_paper_data090.ohm (741 data points)\n",
      "A filter was applied with query \"a > 10 and a < 20 and k > 1000\". In total 468 records were removed\n",
      "--- Data Journal End ---\n",
      "\n"
     ]
    }
   ],
   "source": [
    "obj.print_data_journal()"
   ]
  },
  {
   "cell_type": "code",
   "execution_count": null,
   "metadata": {},
   "outputs": [],
   "source": []
  }
 ],
 "metadata": {
  "kernelspec": {
   "display_name": "Python 3",
   "language": "python",
   "name": "python3"
  },
  "language_info": {
   "codemirror_mode": {
    "name": "ipython",
    "version": 3
   },
   "file_extension": ".py",
   "mimetype": "text/x-python",
   "name": "python",
   "nbconvert_exporter": "python",
   "pygments_lexer": "ipython3",
   "version": "3.6.7"
  }
 },
 "nbformat": 4,
 "nbformat_minor": 4
}
